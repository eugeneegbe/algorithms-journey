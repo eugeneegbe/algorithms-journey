{
 "cells": [
  {
   "cell_type": "markdown",
   "metadata": {},
   "source": [
    "## Anagram Example\n",
    "\n",
    "A word is an anagram of the other if both words even if re-arranged will still have the same count of every character\n",
    "\n",
    "- In this exercise, we can have more than one solution but we will be looking at the count and compare method.\n",
    "\n",
    "This method consists of counting the occurence of each word in both strings and then comparing the counts."
   ]
  },
  {
   "cell_type": "code",
   "execution_count": 12,
   "metadata": {},
   "outputs": [],
   "source": [
    "def detectAnagram(s1, s2):\n",
    "    # First we generate an array of equal legth to represent all characters in the alphabet\n",
    "    # Each with zero count at first\n",
    "    c1 = [0] * 26\n",
    "    c2 = [0] * 26\n",
    "    \n",
    "    # We now generate the lists of characters in the strings\n",
    "    list_1 = list(s1)\n",
    "    list_2 = list(s2)\n",
    "    \n",
    "    # We now get each characters count with respect to the position in alphabet\n",
    "    # When the position is subtracted from 'a's position\n",
    "\n",
    "    for i in range(len(list_1)):\n",
    "        pos = ord(list_1[i]) - ord('a')\n",
    "        c1[pos] = c1[pos] + 1\n",
    "    \n",
    "    # We do it similarly for the second list\n",
    "    for i in range(len(list_2)):\n",
    "        pos = ord(list_2[i]) - ord('a')\n",
    "        c2[pos] = c2[pos] + 1\n",
    "    \n",
    "    j = 0\n",
    "    stillMatches = True\n",
    "    \n",
    "    # Since all counts list c1 and c1 have length 26,\n",
    "    # We iterate over both and see if the counts match exactly\n",
    "    # If not then the strings are not anagrams\n",
    "\n",
    "    while j < 26 and stillMatches:\n",
    "        if c1[j] == c2[j]:\n",
    "            j += 1\n",
    "        else:\n",
    "            stillMatches = False\n",
    "\n",
    "    return stillMatches"
   ]
  },
  {
   "cell_type": "code",
   "execution_count": 16,
   "metadata": {},
   "outputs": [
    {
     "name": "stdout",
     "output_type": "stream",
     "text": [
      "True\n"
     ]
    }
   ],
   "source": [
    "print(detectAnagram('abcd', 'cbad'))"
   ]
  },
  {
   "cell_type": "markdown",
   "metadata": {},
   "source": [
    "## Algorithm analysis\n",
    "\n",
    "This solution is a performant solution because it runs in time complexity O(n) + O(n) + O(26) = **O(n)**\n",
    "\n",
    "However, it is good to note that there is a tradeoff of space here because we have to store two lists. This may now depend on the scientist/programmer to determine another solution which makes both time and space complexity tradeoffs minimal\n"
   ]
  },
  {
   "cell_type": "code",
   "execution_count": null,
   "metadata": {},
   "outputs": [],
   "source": []
  }
 ],
 "metadata": {
  "kernelspec": {
   "display_name": "Python 3",
   "language": "python",
   "name": "python3"
  },
  "language_info": {
   "codemirror_mode": {
    "name": "ipython",
    "version": 3
   },
   "file_extension": ".py",
   "mimetype": "text/x-python",
   "name": "python",
   "nbconvert_exporter": "python",
   "pygments_lexer": "ipython3",
   "version": "3.8.5"
  }
 },
 "nbformat": 4,
 "nbformat_minor": 4
}
