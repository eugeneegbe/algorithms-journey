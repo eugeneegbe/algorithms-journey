{
 "cells": [
  {
   "cell_type": "markdown",
   "metadata": {},
   "source": [
    "Finding the minimum number in a list of numbers\n",
    "- solution 1 should compare each number to every other number in the list\n",
    "- Soution 2 should be linear"
   ]
  },
  {
   "cell_type": "code",
   "execution_count": 84,
   "metadata": {},
   "outputs": [],
   "source": [
    "sample= [1,3,-1,3,-30, 29, 45 - 29.8, 298, 23]"
   ]
  },
  {
   "cell_type": "code",
   "execution_count": 93,
   "metadata": {},
   "outputs": [],
   "source": [
    "# Solution 1\n",
    "def minElment(elements):\n",
    "    minimum=elements[0]\n",
    "    for i in range(len(elements)):\n",
    "        for j in range(len(elements)): # range here is 1 - N to avoid comparing first element with itself\n",
    "            if elements[i] < elements[j] and elements[i] < minimum:\n",
    "                minimum = elements[i]\n",
    "    return minimum"
   ]
  },
  {
   "cell_type": "code",
   "execution_count": 94,
   "metadata": {},
   "outputs": [
    {
     "data": {
      "text/plain": [
       "-30"
      ]
     },
     "execution_count": 94,
     "metadata": {},
     "output_type": "execute_result"
    }
   ],
   "source": [
    "minElment(sample)"
   ]
  },
  {
   "cell_type": "code",
   "execution_count": 95,
   "metadata": {},
   "outputs": [],
   "source": [
    "# Solution 2\n",
    "def minElement2(elements):\n",
    "    minimum = elements[0]\n",
    "    for element in elements:\n",
    "        if element < minimum:\n",
    "                minimum = element\n",
    "    return minimum"
   ]
  },
  {
   "cell_type": "code",
   "execution_count": 96,
   "metadata": {},
   "outputs": [
    {
     "data": {
      "text/plain": [
       "-30"
      ]
     },
     "execution_count": 96,
     "metadata": {},
     "output_type": "execute_result"
    }
   ],
   "source": [
    "minElement2(sample)"
   ]
  },
  {
   "cell_type": "markdown",
   "metadata": {},
   "source": [
    "Observations:\n",
    "\n",
    "## Solution 1\n",
    "Since in solution 1 we compare an element with all other elements,\n",
    "\n",
    "the complexity of solution 1 is calculated as such:\n",
    "\n",
    "number of assign ments = 1 + n<sup>2</sup> which means that\n",
    "\n",
    "O(T) = 1 + n<sup>2</sup> => complexity is O(n<sup>2</sup>)\n",
    "\n",
    "\n",
    "## Solution 2\n",
    "In solution 2 we compare all other element to the minimum element which initially is assigned the first element of the list, the complexity of solution 2 is calculated as such:\n",
    "\n",
    "number of assignments = 1 + n which means that\n",
    "\n",
    "O(T) = O(1) + O(n) => complexity is O(n)"
   ]
  },
  {
   "cell_type": "code",
   "execution_count": null,
   "metadata": {},
   "outputs": [],
   "source": []
  }
 ],
 "metadata": {
  "kernelspec": {
   "display_name": "Python 3",
   "language": "python",
   "name": "python3"
  },
  "language_info": {
   "codemirror_mode": {
    "name": "ipython",
    "version": 3
   },
   "file_extension": ".py",
   "mimetype": "text/x-python",
   "name": "python",
   "nbconvert_exporter": "python",
   "pygments_lexer": "ipython3",
   "version": "3.8.5"
  }
 },
 "nbformat": 4,
 "nbformat_minor": 4
}
