{
 "cells": [
  {
   "cell_type": "markdown",
   "metadata": {},
   "source": [
    "## Finding the Kth smallest number from the list\n",
    "\n",
    "Given a list of numbers in random order, write an algorithm to find the kth smallest number in the list."
   ]
  },
  {
   "cell_type": "markdown",
   "metadata": {},
   "source": [
    "The implementation of the merge sort called below is implemented as shown below"
   ]
  },
  {
   "cell_type": "code",
   "execution_count": 261,
   "metadata": {},
   "outputs": [],
   "source": [
    "def merge_sort(array, left_index, right_index):\n",
    "    # Left index should be less than right index\n",
    "\n",
    "    if left_index >= right_index:\n",
    "        return\n",
    "    \n",
    "    # Find the middle and call merge sort from\n",
    "    # l - m and m - r\n",
    "\n",
    "    middle = (left_index + right_index) // 2\n",
    "    merge_sort(array, left_index, middle)\n",
    "    merge_sort(array, middle + 1, right_index)\n",
    "    \n",
    "    # Call merge to merge different merge sorts\n",
    "    merge(array, left_index, right_index, middle)"
   ]
  },
  {
   "cell_type": "code",
   "execution_count": 293,
   "metadata": {},
   "outputs": [],
   "source": [
    "def merge(array, left_index, right_index, middle):\n",
    "    \n",
    "    # Note that the second parameter in the comprehension\n",
    "    # is non-intuitive\n",
    "    left_copy = array[left_index : middle + 1] #l - m\n",
    "    right_copy = array[middle + 1 : right_index + 1] #m+1 - r\n",
    "    \n",
    "    # left index, right index and final array index\n",
    "    left_copy_index = 0\n",
    "    right_copy_index = 0\n",
    "    sorted_index = left_index\n",
    "    \n",
    "    # Do comparisons for left copy and right copy\n",
    "    while left_copy_index < len(left_copy) and right_copy_index < len(right_copy):\n",
    "        \n",
    "        # Test for left copy update\n",
    "        if left_copy[left_copy_index] <= right_copy[right_copy_index]:\n",
    "            array[sorted_index] = left_copy[left_copy_index]\n",
    "            left_copy_index = left_copy_index + 1\n",
    "\n",
    "        # Else update sorted array with right copy\n",
    "        else:\n",
    "            array[sorted_index] = right_copy[right_copy_index]\n",
    "            right_copy_index = right_copy_index + 1\n",
    "        \n",
    "        # regardles of everything we increase the sorted index\n",
    "        sorted_index = sorted_index + 1\n",
    "    \n",
    "    # We ran out of elements in the right copy without\n",
    "    # exhausting the left copy: just copy the left copy to\n",
    "    # the sorted array\n",
    "    \n",
    "    while left_copy_index < len(left_copy):\n",
    "        array[sorted_index] = left_copy[left_copy_index]\n",
    "        left_copy_index = left_copy_index + 1\n",
    "        sorted_index = sorted_index + 1\n",
    "\n",
    "    # Same thing here for the right array\n",
    "    while right_copy_index < len(right_copy):\n",
    "        array[sorted_index] = right_copy[right_copy_index]\n",
    "        right_copy_index = right_copy_index + 1\n",
    "        sorted_index = sorted_index + 1"
   ]
  },
  {
   "cell_type": "code",
   "execution_count": 294,
   "metadata": {},
   "outputs": [],
   "source": [
    "def get_smallest(numbers, k):\n",
    "    # Makes a call to merge_sort and return the kth element\n",
    "    merge_sort(numbers, 0, len(numbers) - 1)\n",
    "    print('Element at the {} position is {}'.format(k ,numbers[k-1]"
   ]
  },
  {
   "cell_type": "code",
   "execution_count": 295,
   "metadata": {},
   "outputs": [
    {
     "data": {
      "text/plain": [
       "5"
      ]
     },
     "execution_count": 295,
     "metadata": {},
     "output_type": "execute_result"
    }
   ],
   "source": [
    "get_smallest([17,12,0,5,13,2,1], 4)"
   ]
  },
  {
   "cell_type": "code",
   "execution_count": null,
   "metadata": {},
   "outputs": [],
   "source": []
  }
 ],
 "metadata": {
  "kernelspec": {
   "display_name": "Python 3",
   "language": "python",
   "name": "python3"
  },
  "language_info": {
   "codemirror_mode": {
    "name": "ipython",
    "version": 3
   },
   "file_extension": ".py",
   "mimetype": "text/x-python",
   "name": "python",
   "nbconvert_exporter": "python",
   "pygments_lexer": "ipython3",
   "version": "3.8.5"
  }
 },
 "nbformat": 4,
 "nbformat_minor": 4
}
